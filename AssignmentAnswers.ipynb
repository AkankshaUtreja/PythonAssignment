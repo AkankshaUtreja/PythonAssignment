{
 "metadata": {
  "name": "",
  "signature": "sha256:7c315f23ad302804268956e77cf664d11fc33bb181df2d55da951ae60b2f6f8b"
 },
 "nbformat": 3,
 "nbformat_minor": 0,
 "worksheets": [
  {
   "cells": [
    {
     "cell_type": "code",
     "collapsed": false,
     "input": [
      "#Question 1\n",
      "\n",
      "import math\n",
      "\n",
      "cost_price=200\n",
      "discount=0.25\n",
      "bookstore_price= cost_price-200*0.25\n",
      "\n",
      "onetime_SC=40\n",
      "add_SC=10\n",
      "no_of_copies=60\n",
      "\n",
      "Total_wholesale_price= (bookstore_price*no_of_copies)+onetime_SC+(add_SC*(no_of_copies-1))\n",
      "\n",
      "print'The total wholesale price is', Total_wholesale_price\n"
     ],
     "language": "python",
     "metadata": {},
     "outputs": [
      {
       "output_type": "stream",
       "stream": "stdout",
       "text": [
        "The total wholesale price is 9630.0\n"
       ]
      }
     ],
     "prompt_number": 13
    },
    {
     "cell_type": "code",
     "collapsed": false,
     "input": [
      "##Question 2\n",
      "\n",
      "def check_power(x,y):\n",
      "\n",
      " while(x%y==0):\n",
      "    x=x/y\n",
      " return x==1\n",
      "\n",
      "   \n",
      "print(check_power(32,2))\n",
      "print(check_power(10,2))"
     ],
     "language": "python",
     "metadata": {},
     "outputs": [
      {
       "output_type": "stream",
       "stream": "stdout",
       "text": [
        "True\n",
        "False\n"
       ]
      }
     ],
     "prompt_number": 5
    },
    {
     "cell_type": "code",
     "collapsed": false,
     "input": [
      "# Question 3\n",
      "\n",
      "\n",
      "def HCFofthree(x, y, z):\n",
      "\n",
      "# choose the smallest number\n",
      "    if (x < y) and (x<z):\n",
      "        small = x\n",
      "    elif (y<x) and (y<z):\n",
      "        small = y\n",
      "    else:\n",
      "        small=z\n",
      "    for i in range(1, small+1):\n",
      "        if((x % i == 0) and (y % i == 0) and (z%i==0)):\n",
      "            hcf = i\n",
      "            \n",
      "    return hcf\n",
      "\n",
      "x = int(input(\"Enter first number: \")) \n",
      "y = int(input(\"Enter second number: \"))\n",
      "z= int(input(\"Enter third number: \"))\n",
      "\n",
      "print(\"The H.C.F. of\", x,\"and\", y,\"and\", z,\"is\", HCFofthree(x, y,z))"
     ],
     "language": "python",
     "metadata": {},
     "outputs": [
      {
       "name": "stdout",
       "output_type": "stream",
       "stream": "stdout",
       "text": [
        "Enter first number: 2\n"
       ]
      },
      {
       "name": "stdout",
       "output_type": "stream",
       "stream": "stdout",
       "text": [
        "Enter second number: 8\n"
       ]
      },
      {
       "name": "stdout",
       "output_type": "stream",
       "stream": "stdout",
       "text": [
        "Enter third number: 16\n"
       ]
      },
      {
       "output_type": "stream",
       "stream": "stdout",
       "text": [
        "('The H.C.F. of', 2, 'and', 8, 'and', 16, 'is', 2)\n"
       ]
      }
     ],
     "prompt_number": 8
    },
    {
     "cell_type": "code",
     "collapsed": false,
     "input": [
      "## Question 4\n",
      "\n",
      "import time\n",
      " \n",
      "x = time.time()\n",
      "daysecs = 24 * 60 * 60\n",
      "hoursecs = 60 * 60\n",
      "minsecs = 60\n",
      " \n",
      "\n",
      "print(x)\n",
      "daysincepoch=x//daysecs \n",
      "print(daysincepoch)\n",
      "print(time.ctime(x))"
     ],
     "language": "python",
     "metadata": {},
     "outputs": [
      {
       "output_type": "stream",
       "stream": "stdout",
       "text": [
        "1518890082.14\n",
        "17579.0\n",
        "Sat Feb 17 23:24:42 2018\n"
       ]
      }
     ],
     "prompt_number": 1
    },
    {
     "cell_type": "code",
     "collapsed": false,
     "input": [
      "#Question 5\n",
      "\n",
      "def if_triangle(a,b,c):\n",
      "\n",
      "    \n",
      "    if a > (b+c) or b > (a+c) or c > (a+b):\n",
      "        print('No')\n",
      "    else:\n",
      "        print('Yes')\n",
      "\n",
      "    \n",
      "if_triangle(2,3,5)\n",
      "if_triangle(0,3,5)"
     ],
     "language": "python",
     "metadata": {},
     "outputs": [
      {
       "output_type": "stream",
       "stream": "stdout",
       "text": [
        "Yes\n",
        "No\n"
       ]
      }
     ],
     "prompt_number": 28
    },
    {
     "cell_type": "code",
     "collapsed": false,
     "input": [
      "# Question 7\n",
      "\n",
      "def cumsum(x):\n",
      "    \n",
      "    total = 0\n",
      "    summation= []\n",
      "\n",
      "    for i in x:\n",
      "       total += i\n",
      "       summation.append(total)\n",
      "    return summation\n",
      "\n",
      "cumsum([1,2,3,4,5])"
     ],
     "language": "python",
     "metadata": {},
     "outputs": [
      {
       "metadata": {},
       "output_type": "pyout",
       "prompt_number": 34,
       "text": [
        "[1, 3, 6, 10, 15]"
       ]
      }
     ],
     "prompt_number": 34
    },
    {
     "cell_type": "code",
     "collapsed": false,
     "input": [
      "# Question 8\n",
      "\n",
      "from string import punctuation, whitespace\n",
      "\n",
      "file_read = 'C:\\Users\\AKANKSHA\\Desktop\\ISB CBA\\PythonAssignment\\Test.txt'\n",
      "\n",
      "with open(file_read, 'r') as fr:\n",
      "    entire_file = fr.read().split()\n",
      "    \n",
      "def clean(word):\n",
      "    cleanwords = ''\n",
      "    for char in word:\n",
      "        if ((char in punctuation) or (char in whitespace)):\n",
      "            pass\n",
      "        else:\n",
      "            cleanwords += char.upper()\n",
      "    return cleanwords\n",
      "\n",
      "for word in entire_file:\n",
      "    print(clean(word))"
     ],
     "language": "python",
     "metadata": {},
     "outputs": [
      {
       "output_type": "stream",
       "stream": "stdout",
       "text": [
        "THIS\n",
        "IS\n",
        "A\n",
        "SAMPLE\n",
        "FILE\n",
        "FOR\n",
        "TESTING\n",
        "IF\n",
        "THIS\n",
        "PROGRAM\n",
        "WORKS\n",
        "WELL\n",
        "AND\n",
        "REMOVES\n",
        "ALL\n",
        "WHITESPACES\n",
        "AND\n",
        "PUNCTUATION\n",
        "ERRORS\n",
        "WORKS\n",
        "WELL\n",
        "I\n",
        "GUESS\n"
       ]
      }
     ],
     "prompt_number": 7
    },
    {
     "cell_type": "code",
     "collapsed": false,
     "input": [
      "# Question 9\n",
      "\n",
      "import os\n",
      "from collections import Counter\n",
      "\n",
      "def check1(file):\n",
      "    comm = 'md5 ' + file\n",
      "    filep = os.popen(comm)\n",
      "    red = filep.read()\n",
      "    stat = filep.close()\n",
      "    posi = red.rfind(' = ')\n",
      "    sumcheck = red[posi+3:].strip()\n",
      "    namefile = red[5:posi-1]\n",
      "    return [namefile,sumcheck]\n",
      "\n",
      "def findfile(rootDir, filetype):\n",
      "\n",
      "    checkSumsstore = {} \n",
      "    fileLen = len(filetype)\n",
      "    for root, dirs, files in os.walk(rootDir):\n",
      "        for file in files:\n",
      "            if file[-fileLen:] == filetype:\n",
      "                csFile = check1(file)\n",
      "                checkSumsstore[os.path.join(root, file)] = csFile[1]\n",
      "    return checkSumsstore\n",
      "\n",
      "if __name__ == '__main__':\n",
      "    checkfile = findfile('C:/Users/AKANKSHA/','.mp3')\n",
      "    print checkfile\n"
     ],
     "language": "python",
     "metadata": {},
     "outputs": [
      {
       "output_type": "stream",
       "stream": "stdout",
       "text": [
        "{'C:/Users/AKANKSHA/Downloads\\\\Gulaabo - 128kbps - (SongspkSongspk.in).mp3': '', 'C:/Users/AKANKSHA/Downloads\\\\01 - Main Hoon Hero Tera (Salman Khan)(MyMp3Song.Com).mp3': '', 'C:/Users/AKANKSHA/Downloads\\\\21st\\\\21st\\\\Sakshi\\\\All of me.mp3': '', 'C:/Users/AKANKSHA/Downloads\\\\02 Sau Aasoon (Katti Batti) Shankar Mahadevan 190Kbps.mp3': '', 'C:/Users/AKANKSHA/Music\\\\Fazilpuria feat. Badshah\\\\Chull - Single Punjabi\\\\Chull - Fazilpuria Feat. Badshah - MyMp3Song.Com.mp3': '', 'C:/Users/AKANKSHA/Downloads\\\\MyBestFriend.mp3': ''}\n"
       ]
      }
     ],
     "prompt_number": 2
    },
    {
     "cell_type": "code",
     "collapsed": false,
     "input": [],
     "language": "python",
     "metadata": {},
     "outputs": []
    }
   ],
   "metadata": {}
  }
 ]
}